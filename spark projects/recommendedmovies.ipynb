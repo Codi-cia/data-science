{
  "nbformat": 4,
  "nbformat_minor": 0,
  "metadata": {
    "colab": {
      "name": "recommendedmovies.ipynb",
      "provenance": [],
      "authorship_tag": "ABX9TyNJ+11t1GhAhHRcWuj7umVo",
      "include_colab_link": true
    },
    "kernelspec": {
      "name": "python3",
      "display_name": "Python 3"
    },
    "language_info": {
      "name": "python"
    }
  },
  "cells": [
    {
      "cell_type": "markdown",
      "metadata": {
        "id": "view-in-github",
        "colab_type": "text"
      },
      "source": [
        "<a href=\"https://colab.research.google.com/github/Codi-cia/data-science/blob/main/recommendedmovies.ipynb\" target=\"_parent\"><img src=\"https://colab.research.google.com/assets/colab-badge.svg\" alt=\"Open In Colab\"/></a>"
      ]
    },
    {
      "cell_type": "code",
      "source": [
        "from google.colab import drive\n",
        "drive.mount('/content/drive')"
      ],
      "metadata": {
        "colab": {
          "base_uri": "https://localhost:8080/"
        },
        "id": "J2cCuDQ-RNAI",
        "outputId": "5664743c-9587-46b6-f310-0758c4896f5f"
      },
      "execution_count": null,
      "outputs": [
        {
          "output_type": "stream",
          "name": "stdout",
          "text": [
            "Mounted at /content/drive\n"
          ]
        }
      ]
    },
    {
      "cell_type": "code",
      "source": [
        "!pip install pyspark"
      ],
      "metadata": {
        "colab": {
          "base_uri": "https://localhost:8080/"
        },
        "id": "C8ceRbpKRUEQ",
        "outputId": "5c29e9cb-2db3-40e6-b85e-b7561e4e13d0"
      },
      "execution_count": null,
      "outputs": [
        {
          "output_type": "stream",
          "name": "stdout",
          "text": [
            "Collecting pyspark\n",
            "  Downloading pyspark-3.2.1.tar.gz (281.4 MB)\n",
            "\u001b[K     |████████████████████████████████| 281.4 MB 34 kB/s \n",
            "\u001b[?25hCollecting py4j==0.10.9.3\n",
            "  Downloading py4j-0.10.9.3-py2.py3-none-any.whl (198 kB)\n",
            "\u001b[K     |████████████████████████████████| 198 kB 51.7 MB/s \n",
            "\u001b[?25hBuilding wheels for collected packages: pyspark\n",
            "  Building wheel for pyspark (setup.py) ... \u001b[?25l\u001b[?25hdone\n",
            "  Created wheel for pyspark: filename=pyspark-3.2.1-py2.py3-none-any.whl size=281853642 sha256=31b0bd8d8d5bd0f4ae2e64ff15e2065e7a7a76488d95c3412ac1535bf210db63\n",
            "  Stored in directory: /root/.cache/pip/wheels/9f/f5/07/7cd8017084dce4e93e84e92efd1e1d5334db05f2e83bcef74f\n",
            "Successfully built pyspark\n",
            "Installing collected packages: py4j, pyspark\n",
            "Successfully installed py4j-0.10.9.3 pyspark-3.2.1\n"
          ]
        }
      ]
    },
    {
      "cell_type": "code",
      "source": [
        "conf = SparkConf().setMaster(\"local[*]\").setAppName(\"recommendedmovies\")\n",
        "sc = SparkContext(conf = conf)\n",
        "sc.setCheckpointDir('checkpoint')"
      ],
      "metadata": {
        "id": "GsrKJyd7TefW"
      },
      "execution_count": null,
      "outputs": []
    },
    {
      "cell_type": "code",
      "source": [
        "import sys\n",
        "from math import sqrt\n",
        "\n",
        "def loadMovieNames():\n",
        "    movieNames = {}\n",
        "    with open(\"/content/drive/MyDrive/ml-100k/u.item\", encoding='ascii', errors='ignore') as f:\n",
        "        for line in f:\n",
        "            fields = line.split('|')\n",
        "            movieNames[int(fields[0])] = fields[1]\n",
        "    return movieNames\n",
        "\n",
        "#Python 3 doesn't let you pass around unpacked tuples,\n",
        "#so we explicitly extract the ratings now.\n",
        "def makePairs( userRatings ):\n",
        "    ratings = userRatings[1]\n",
        "    (movie1, rating1) = ratings[0]\n",
        "    (movie2, rating2) = ratings[1]\n",
        "    return ((movie1, movie2), (rating1, rating2))\n",
        "\n",
        "def filterDuplicates( userRatings ):\n",
        "    ratings = userRatings[1]\n",
        "    (movie1, rating1) = ratings[0]\n",
        "    (movie2, rating2) = ratings[1]\n",
        "    return movie1 < movie2\n",
        "\n",
        "def computeCosineSimilarity(ratingPairs):\n",
        "    numPairs = 0\n",
        "    sum_xx = sum_yy = sum_xy = 0\n",
        "    for ratingX, ratingY in ratingPairs:\n",
        "        sum_xx += ratingX * ratingX\n",
        "        sum_yy += ratingY * ratingY\n",
        "        sum_xy += ratingX * ratingY\n",
        "        numPairs += 1\n",
        "\n",
        "    numerator = sum_xy\n",
        "    denominator = sqrt(sum_xx) * sqrt(sum_yy)\n",
        "\n",
        "    score = 0\n",
        "    if (denominator):\n",
        "        score = (numerator / (float(denominator)))\n",
        "\n",
        "    return (score, numPairs)\n",
        "\n",
        "\n",
        "print(\"\\nLoading movie names...\")\n",
        "nameDict = loadMovieNames()\n",
        "\n",
        "data = sc.textFile(\"/content/drive/MyDrive/ml-100k/u.data\")\n",
        "\n",
        "# Map ratings to key / value pairs: user ID => movie ID, rating\n",
        "ratings = data.map(lambda l: l.split()).map(lambda l: (int(l[0]), (int(l[1]), float(l[2]))))\n",
        "\n",
        "# Emit every movie rated together by the same user.\n",
        "# Self-join to find every combination.\n",
        "joinedRatings = ratings.join(ratings)\n",
        "\n",
        "\n",
        "\n",
        "# Filter out duplicate pairs\n",
        "uniqueJoinedRatings = joinedRatings.filter(filterDuplicates)\n",
        "\n",
        "# Now key by (movie1, movie2) pairs.\n",
        "moviePairs = uniqueJoinedRatings.map(makePairs)\n",
        "\n",
        "# We now have (movie1, movie2) => (rating1, rating2)\n",
        "# Now collect all ratings for each movie pair and compute similarity\n",
        "moviePairRatings = moviePairs.groupByKey()\n",
        "\n",
        "# We now have (movie1, movie2) = > (rating1, rating2), (rating1, rating2) ...\n",
        "# Can now compute similarities.\n",
        "moviePairSimilarities = moviePairRatings.mapValues(computeCosineSimilarity).cache()\n",
        "\n",
        "# Extract similarities for the movie we care about that are \"good\".\n",
        "if (len(sys.argv) > 1):\n",
        "\n",
        "    scoreThreshold = 0.97\n",
        "    coOccurenceThreshold = 50\n",
        "\n",
        "    movieID = 50\n",
        "\n",
        "    # Filter for movies with this sim that are \"good\" as defined by\n",
        "    # our quality thresholds above\n",
        "    filteredResults = moviePairSimilarities.filter(lambda pairSim: \\\n",
        "        (pairSim[0][0] == movieID or pairSim[0][1] == movieID) \\\n",
        "        and pairSim[1][0] > scoreThreshold and pairSim[1][1] > coOccurenceThreshold)\n",
        "\n",
        "    # Sort by quality score.\n",
        "    results = filteredResults.map(lambda pairSim: (pairSim[1], pairSim[0])).sortByKey(ascending = False).take(10)\n",
        "\n",
        "    print(\"Top 10 similar movies for \" + nameDict[movieID])\n",
        "    for result in results:\n",
        "        (sim, pair) = result\n",
        "        # Display the similarity result that isn't the movie we're looking at\n",
        "        similarMovieID = pair[0]\n",
        "        if (similarMovieID == movieID):\n",
        "            similarMovieID = pair[1]\n",
        "        print(nameDict[similarMovieID] + \"\\tscore: \" + str(sim[0]) + \"\\tstrength: \" + str(sim[1]))\n"
      ],
      "metadata": {
        "colab": {
          "base_uri": "https://localhost:8080/"
        },
        "id": "2KMCLNSlWcO1",
        "outputId": "126be6ed-c52e-4f61-ba0a-18cc048df022"
      },
      "execution_count": null,
      "outputs": [
        {
          "output_type": "stream",
          "name": "stdout",
          "text": [
            "\n",
            "Loading movie names...\n",
            "Top 10 similar movies for Star Wars (1977)\n",
            "Empire Strikes Back, The (1980)\tscore: 0.9895869539332568\tstrength: 346\n",
            "Return of the Jedi (1983)\tscore: 0.9857230861253026\tstrength: 480\n",
            "Raiders of the Lost Ark (1981)\tscore: 0.981760098872619\tstrength: 380\n",
            "20,000 Leagues Under the Sea (1954)\tscore: 0.9789385605497993\tstrength: 68\n",
            "12 Angry Men (1957)\tscore: 0.9776576120448436\tstrength: 109\n",
            "Close Shave, A (1995)\tscore: 0.9775948291054827\tstrength: 92\n",
            "African Queen, The (1951)\tscore: 0.9764692222674887\tstrength: 138\n",
            "Sting, The (1973)\tscore: 0.9751512937740359\tstrength: 204\n",
            "Wrong Trousers, The (1993)\tscore: 0.9748681355460885\tstrength: 103\n",
            "Wallace & Gromit: The Best of Aardman Animation (1996)\tscore: 0.9741816128302572\tstrength: 58\n"
          ]
        }
      ]
    }
  ]
}